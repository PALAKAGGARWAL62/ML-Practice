{
 "cells": [
  {
   "cell_type": "code",
   "execution_count": 1,
   "id": "ac5891e1",
   "metadata": {},
   "outputs": [],
   "source": [
    "import pandas as pd\n",
    "import numpy as np\n",
    "from matplotlib import pyplot as plt\n",
    "import seaborn as sns\n",
    "from sklearn.linear_model import LinearRegression\n",
    "import warnings\n",
    "warnings.filterwarnings(\"ignore\")"
   ]
  },
  {
   "cell_type": "code",
   "execution_count": 2,
   "id": "270fe155",
   "metadata": {},
   "outputs": [
    {
     "data": {
      "text/html": [
       "<div>\n",
       "<style scoped>\n",
       "    .dataframe tbody tr th:only-of-type {\n",
       "        vertical-align: middle;\n",
       "    }\n",
       "\n",
       "    .dataframe tbody tr th {\n",
       "        vertical-align: top;\n",
       "    }\n",
       "\n",
       "    .dataframe thead th {\n",
       "        text-align: right;\n",
       "    }\n",
       "</style>\n",
       "<table border=\"1\" class=\"dataframe\">\n",
       "  <thead>\n",
       "    <tr style=\"text-align: right;\">\n",
       "      <th></th>\n",
       "      <th>Date</th>\n",
       "      <th>Price</th>\n",
       "    </tr>\n",
       "  </thead>\n",
       "  <tbody>\n",
       "    <tr>\n",
       "      <th>0</th>\n",
       "      <td>1950-01</td>\n",
       "      <td>34.73</td>\n",
       "    </tr>\n",
       "    <tr>\n",
       "      <th>1</th>\n",
       "      <td>1950-02</td>\n",
       "      <td>34.73</td>\n",
       "    </tr>\n",
       "    <tr>\n",
       "      <th>2</th>\n",
       "      <td>1950-03</td>\n",
       "      <td>34.73</td>\n",
       "    </tr>\n",
       "    <tr>\n",
       "      <th>3</th>\n",
       "      <td>1950-04</td>\n",
       "      <td>34.73</td>\n",
       "    </tr>\n",
       "    <tr>\n",
       "      <th>4</th>\n",
       "      <td>1950-05</td>\n",
       "      <td>34.73</td>\n",
       "    </tr>\n",
       "  </tbody>\n",
       "</table>\n",
       "</div>"
      ],
      "text/plain": [
       "      Date  Price\n",
       "0  1950-01  34.73\n",
       "1  1950-02  34.73\n",
       "2  1950-03  34.73\n",
       "3  1950-04  34.73\n",
       "4  1950-05  34.73"
      ]
     },
     "execution_count": 2,
     "metadata": {},
     "output_type": "execute_result"
    }
   ],
   "source": [
    "df = pd.read_csv('gold_monthly.csv')\n",
    "df.head()"
   ]
  },
  {
   "cell_type": "code",
   "execution_count": 3,
   "id": "b7d833ac",
   "metadata": {},
   "outputs": [
    {
     "data": {
      "text/plain": [
       "(847, 2)"
      ]
     },
     "execution_count": 3,
     "metadata": {},
     "output_type": "execute_result"
    }
   ],
   "source": [
    "df.shape"
   ]
  },
  {
   "cell_type": "code",
   "execution_count": 4,
   "id": "92acd574",
   "metadata": {},
   "outputs": [
    {
     "name": "stdout",
     "output_type": "stream",
     "text": [
      "1950-01 2020-07\n"
     ]
    }
   ],
   "source": [
    "print(df['Date'][0], df['Date'][len(df)-1])"
   ]
  },
  {
   "cell_type": "code",
   "execution_count": 5,
   "id": "c1c07132",
   "metadata": {},
   "outputs": [
    {
     "data": {
      "text/plain": [
       "count     847.000000\n",
       "mean      416.556906\n",
       "std       453.665313\n",
       "min        34.490000\n",
       "25%        35.190000\n",
       "50%       319.622000\n",
       "75%       447.029000\n",
       "max      1840.807000\n",
       "Name: Price, dtype: float64"
      ]
     },
     "execution_count": 5,
     "metadata": {},
     "output_type": "execute_result"
    }
   ],
   "source": [
    "df['Price'].describe()"
   ]
  },
  {
   "cell_type": "code",
   "execution_count": 6,
   "id": "0a9d8913",
   "metadata": {},
   "outputs": [],
   "source": [
    "date = pd.date_range(start='1/1/1950', end='8/1/2020', freq='M')"
   ]
  },
  {
   "cell_type": "code",
   "execution_count": 7,
   "id": "e075ad26",
   "metadata": {},
   "outputs": [
    {
     "data": {
      "text/plain": [
       "DatetimeIndex(['1950-01-31', '1950-02-28', '1950-03-31', '1950-04-30',\n",
       "               '1950-05-31', '1950-06-30', '1950-07-31', '1950-08-31',\n",
       "               '1950-09-30', '1950-10-31',\n",
       "               ...\n",
       "               '2019-10-31', '2019-11-30', '2019-12-31', '2020-01-31',\n",
       "               '2020-02-29', '2020-03-31', '2020-04-30', '2020-05-31',\n",
       "               '2020-06-30', '2020-07-31'],\n",
       "              dtype='datetime64[ns]', length=847, freq='M')"
      ]
     },
     "execution_count": 7,
     "metadata": {},
     "output_type": "execute_result"
    }
   ],
   "source": [
    "date"
   ]
  },
  {
   "cell_type": "code",
   "execution_count": 8,
   "id": "98c4f85a",
   "metadata": {},
   "outputs": [],
   "source": [
    "df['Month'] = date"
   ]
  },
  {
   "cell_type": "code",
   "execution_count": 9,
   "id": "d296b42c",
   "metadata": {},
   "outputs": [
    {
     "name": "stdout",
     "output_type": "stream",
     "text": [
      "<class 'pandas.core.frame.DataFrame'>\n",
      "RangeIndex: 847 entries, 0 to 846\n",
      "Data columns (total 3 columns):\n",
      " #   Column  Non-Null Count  Dtype         \n",
      "---  ------  --------------  -----         \n",
      " 0   Date    847 non-null    object        \n",
      " 1   Price   847 non-null    float64       \n",
      " 2   Month   847 non-null    datetime64[ns]\n",
      "dtypes: datetime64[ns](1), float64(1), object(1)\n",
      "memory usage: 20.0+ KB\n"
     ]
    }
   ],
   "source": [
    "df.info()"
   ]
  },
  {
   "cell_type": "code",
   "execution_count": 10,
   "id": "994cfc1b",
   "metadata": {},
   "outputs": [
    {
     "data": {
      "text/html": [
       "<div>\n",
       "<style scoped>\n",
       "    .dataframe tbody tr th:only-of-type {\n",
       "        vertical-align: middle;\n",
       "    }\n",
       "\n",
       "    .dataframe tbody tr th {\n",
       "        vertical-align: top;\n",
       "    }\n",
       "\n",
       "    .dataframe thead th {\n",
       "        text-align: right;\n",
       "    }\n",
       "</style>\n",
       "<table border=\"1\" class=\"dataframe\">\n",
       "  <thead>\n",
       "    <tr style=\"text-align: right;\">\n",
       "      <th></th>\n",
       "      <th>Date</th>\n",
       "      <th>Price</th>\n",
       "      <th>Month</th>\n",
       "    </tr>\n",
       "  </thead>\n",
       "  <tbody>\n",
       "    <tr>\n",
       "      <th>0</th>\n",
       "      <td>1950-01</td>\n",
       "      <td>34.73</td>\n",
       "      <td>1950-01-31</td>\n",
       "    </tr>\n",
       "    <tr>\n",
       "      <th>1</th>\n",
       "      <td>1950-02</td>\n",
       "      <td>34.73</td>\n",
       "      <td>1950-02-28</td>\n",
       "    </tr>\n",
       "    <tr>\n",
       "      <th>2</th>\n",
       "      <td>1950-03</td>\n",
       "      <td>34.73</td>\n",
       "      <td>1950-03-31</td>\n",
       "    </tr>\n",
       "    <tr>\n",
       "      <th>3</th>\n",
       "      <td>1950-04</td>\n",
       "      <td>34.73</td>\n",
       "      <td>1950-04-30</td>\n",
       "    </tr>\n",
       "    <tr>\n",
       "      <th>4</th>\n",
       "      <td>1950-05</td>\n",
       "      <td>34.73</td>\n",
       "      <td>1950-05-31</td>\n",
       "    </tr>\n",
       "  </tbody>\n",
       "</table>\n",
       "</div>"
      ],
      "text/plain": [
       "      Date  Price      Month\n",
       "0  1950-01  34.73 1950-01-31\n",
       "1  1950-02  34.73 1950-02-28\n",
       "2  1950-03  34.73 1950-03-31\n",
       "3  1950-04  34.73 1950-04-30\n",
       "4  1950-05  34.73 1950-05-31"
      ]
     },
     "execution_count": 10,
     "metadata": {},
     "output_type": "execute_result"
    }
   ],
   "source": [
    "df.head()"
   ]
  },
  {
   "cell_type": "code",
   "execution_count": 11,
   "id": "b4acfe85",
   "metadata": {},
   "outputs": [],
   "source": [
    "df.drop('Date', axis=1, inplace=True)"
   ]
  },
  {
   "cell_type": "code",
   "execution_count": 12,
   "id": "e88ab5c9",
   "metadata": {},
   "outputs": [
    {
     "data": {
      "text/html": [
       "<div>\n",
       "<style scoped>\n",
       "    .dataframe tbody tr th:only-of-type {\n",
       "        vertical-align: middle;\n",
       "    }\n",
       "\n",
       "    .dataframe tbody tr th {\n",
       "        vertical-align: top;\n",
       "    }\n",
       "\n",
       "    .dataframe thead th {\n",
       "        text-align: right;\n",
       "    }\n",
       "</style>\n",
       "<table border=\"1\" class=\"dataframe\">\n",
       "  <thead>\n",
       "    <tr style=\"text-align: right;\">\n",
       "      <th></th>\n",
       "      <th>Price</th>\n",
       "      <th>Month</th>\n",
       "    </tr>\n",
       "  </thead>\n",
       "  <tbody>\n",
       "    <tr>\n",
       "      <th>0</th>\n",
       "      <td>34.73</td>\n",
       "      <td>1950-01-31</td>\n",
       "    </tr>\n",
       "    <tr>\n",
       "      <th>1</th>\n",
       "      <td>34.73</td>\n",
       "      <td>1950-02-28</td>\n",
       "    </tr>\n",
       "    <tr>\n",
       "      <th>2</th>\n",
       "      <td>34.73</td>\n",
       "      <td>1950-03-31</td>\n",
       "    </tr>\n",
       "    <tr>\n",
       "      <th>3</th>\n",
       "      <td>34.73</td>\n",
       "      <td>1950-04-30</td>\n",
       "    </tr>\n",
       "    <tr>\n",
       "      <th>4</th>\n",
       "      <td>34.73</td>\n",
       "      <td>1950-05-31</td>\n",
       "    </tr>\n",
       "  </tbody>\n",
       "</table>\n",
       "</div>"
      ],
      "text/plain": [
       "   Price      Month\n",
       "0  34.73 1950-01-31\n",
       "1  34.73 1950-02-28\n",
       "2  34.73 1950-03-31\n",
       "3  34.73 1950-04-30\n",
       "4  34.73 1950-05-31"
      ]
     },
     "execution_count": 12,
     "metadata": {},
     "output_type": "execute_result"
    }
   ],
   "source": [
    "df.head()"
   ]
  },
  {
   "cell_type": "markdown",
   "id": "0e3a9caa",
   "metadata": {},
   "source": [
    "components of a graph\n",
    "x axis\n",
    "y axis\n",
    "x label\n",
    "y label\n",
    "legends\n",
    "xticks\n",
    "yticks\n",
    "data"
   ]
  },
  {
   "cell_type": "code",
   "execution_count": 13,
   "id": "9488bbef",
   "metadata": {},
   "outputs": [
    {
     "data": {
      "image/png": "[encoded data removed]",
      "text/plain": [
       "<Figure size 1800x576 with 1 Axes>"
      ]
     },
     "metadata": {
      "needs_background": "light"
     },
     "output_type": "display_data"
    }
   ],
   "source": [
    "_, ax = plt.subplots(figsize=(25,8))\n",
    "plt.plot(df['Month'], df['Price'])\n",
    "# plt.xlabel('Months')\n",
    "# plt.ylabel('Price')\n",
    "# plt.title('Glod Price Monthly since 1950')\n",
    "plt.show()"
   ]
  },
  {
   "cell_type": "code",
   "execution_count": 14,
   "id": "709cf54a",
   "metadata": {},
   "outputs": [
    {
     "data": {
      "text/html": [
       "<div>\n",
       "<style scoped>\n",
       "    .dataframe tbody tr th:only-of-type {\n",
       "        vertical-align: middle;\n",
       "    }\n",
       "\n",
       "    .dataframe tbody tr th {\n",
       "        vertical-align: top;\n",
       "    }\n",
       "\n",
       "    .dataframe thead th {\n",
       "        text-align: right;\n",
       "    }\n",
       "</style>\n",
       "<table border=\"1\" class=\"dataframe\">\n",
       "  <thead>\n",
       "    <tr style=\"text-align: right;\">\n",
       "      <th></th>\n",
       "      <th>Price</th>\n",
       "    </tr>\n",
       "    <tr>\n",
       "      <th>Month</th>\n",
       "      <th></th>\n",
       "    </tr>\n",
       "  </thead>\n",
       "  <tbody>\n",
       "    <tr>\n",
       "      <th>1950-01-31</th>\n",
       "      <td>34.730</td>\n",
       "    </tr>\n",
       "    <tr>\n",
       "      <th>1950-02-28</th>\n",
       "      <td>34.730</td>\n",
       "    </tr>\n",
       "    <tr>\n",
       "      <th>1950-03-31</th>\n",
       "      <td>34.730</td>\n",
       "    </tr>\n",
       "    <tr>\n",
       "      <th>1950-04-30</th>\n",
       "      <td>34.730</td>\n",
       "    </tr>\n",
       "    <tr>\n",
       "      <th>1950-05-31</th>\n",
       "      <td>34.730</td>\n",
       "    </tr>\n",
       "    <tr>\n",
       "      <th>...</th>\n",
       "      <td>...</td>\n",
       "    </tr>\n",
       "    <tr>\n",
       "      <th>2020-03-31</th>\n",
       "      <td>1593.764</td>\n",
       "    </tr>\n",
       "    <tr>\n",
       "      <th>2020-04-30</th>\n",
       "      <td>1680.030</td>\n",
       "    </tr>\n",
       "    <tr>\n",
       "      <th>2020-05-31</th>\n",
       "      <td>1715.697</td>\n",
       "    </tr>\n",
       "    <tr>\n",
       "      <th>2020-06-30</th>\n",
       "      <td>1734.032</td>\n",
       "    </tr>\n",
       "    <tr>\n",
       "      <th>2020-07-31</th>\n",
       "      <td>1840.807</td>\n",
       "    </tr>\n",
       "  </tbody>\n",
       "</table>\n",
       "<p>847 rows × 1 columns</p>\n",
       "</div>"
      ],
      "text/plain": [
       "               Price\n",
       "Month               \n",
       "1950-01-31    34.730\n",
       "1950-02-28    34.730\n",
       "1950-03-31    34.730\n",
       "1950-04-30    34.730\n",
       "1950-05-31    34.730\n",
       "...              ...\n",
       "2020-03-31  1593.764\n",
       "2020-04-30  1680.030\n",
       "2020-05-31  1715.697\n",
       "2020-06-30  1734.032\n",
       "2020-07-31  1840.807\n",
       "\n",
       "[847 rows x 1 columns]"
      ]
     },
     "execution_count": 14,
     "metadata": {},
     "output_type": "execute_result"
    }
   ],
   "source": [
    "df1 = df.set_index('Month')\n",
    "df1"
   ]
  },
  {
   "cell_type": "code",
   "execution_count": 15,
   "id": "7eec58e9",
   "metadata": {},
   "outputs": [
    {
     "data": {
      "image/png": "[encoded data removed]",
      "text/plain": [
       "<Figure size 1800x576 with 1 Axes>"
      ]
     },
     "metadata": {
      "needs_background": "light"
     },
     "output_type": "display_data"
    }
   ],
   "source": [
    "_, ax = plt.subplots(figsize=(25,8))\n",
    "sns.boxplot(data = df, x = df['Month'].dt.year, y='Price')\n",
    "plt.xticks(rotation=90)\n",
    "plt.grid();\n",
    "# fig = plt.figure(figsize=(20, 8))\n",
    "# plt.show()"
   ]
  },
  {
   "cell_type": "code",
   "execution_count": 16,
   "id": "a4b3d6b6",
   "metadata": {},
   "outputs": [
    {
     "data": {
      "text/plain": [
       "Text(0.5, 1.0, 'Gold price monthly')"
      ]
     },
     "execution_count": 16,
     "metadata": {},
     "output_type": "execute_result"
    },
    {
     "data": {
      "image/png": "[encoded data removed]",
      "text/plain": [
       "<Figure size 1800x576 with 1 Axes>"
      ]
     },
     "metadata": {
      "needs_background": "light"
     },
     "output_type": "display_data"
    }
   ],
   "source": [
    "_, ax = plt.subplots(figsize=(25,8))\n",
    "sns.boxplot(data = df, x = df['Month'].dt.month_name(), y='Price')\n",
    "plt.xticks(rotation=90)\n",
    "plt.grid();\n",
    "plt.title('Gold price monthly')\n",
    "# fig = plt.figure(figsize=(20, 8))\n",
    "# plt.show()"
   ]
  },
  {
   "cell_type": "code",
   "execution_count": 17,
   "id": "6c3aac3c",
   "metadata": {},
   "outputs": [
    {
     "data": {
      "text/plain": [
       "<AxesSubplot:xlabel='Month'>"
      ]
     },
     "execution_count": 17,
     "metadata": {},
     "output_type": "execute_result"
    },
    {
     "data": {
      "image/png": "[encoded data removed]",
      "text/plain": [
       "<Figure size 432x288 with 1 Axes>"
      ]
     },
     "metadata": {
      "needs_background": "light"
     },
     "output_type": "display_data"
    }
   ],
   "source": [
    "df_yr = df1.resample('A').mean()\n",
    "df_yr.plot()"
   ]
  },
  {
   "cell_type": "code",
   "execution_count": 18,
   "id": "337d7178",
   "metadata": {},
   "outputs": [
    {
     "data": {
      "text/plain": [
       "<AxesSubplot:xlabel='Month'>"
      ]
     },
     "execution_count": 18,
     "metadata": {},
     "output_type": "execute_result"
    },
    {
     "data": {
      "image/png": "[encoded data removed]",
      "text/plain": [
       "<Figure size 432x288 with 1 Axes>"
      ]
     },
     "metadata": {
      "needs_background": "light"
     },
     "output_type": "display_data"
    }
   ],
   "source": [
    "df_q = df1.resample('Q').mean()\n",
    "df_q.plot()"
   ]
  },
  {
   "cell_type": "code",
   "execution_count": 19,
   "id": "9e27911c",
   "metadata": {},
   "outputs": [
    {
     "data": {
      "text/plain": [
       "<AxesSubplot:xlabel='Month'>"
      ]
     },
     "execution_count": 19,
     "metadata": {},
     "output_type": "execute_result"
    },
    {
     "data": {
      "image/png": "[encoded data removed]",
      "text/plain": [
       "<Figure size 432x288 with 1 Axes>"
      ]
     },
     "metadata": {
      "needs_background": "light"
     },
     "output_type": "display_data"
    }
   ],
   "source": [
    "df_d = df1.resample('10Y').mean()\n",
    "df_d.plot()"
   ]
  },
  {
   "cell_type": "code",
   "execution_count": 20,
   "id": "ef664f5c",
   "metadata": {},
   "outputs": [],
   "source": [
    "# (std/mean)*100\n",
    "df2 = df1.groupby(df1.index.year).mean()"
   ]
  },
  {
   "cell_type": "code",
   "execution_count": 21,
   "id": "74b8fd02",
   "metadata": {},
   "outputs": [
    {
     "data": {
      "text/html": [
       "<div>\n",
       "<style scoped>\n",
       "    .dataframe tbody tr th:only-of-type {\n",
       "        vertical-align: middle;\n",
       "    }\n",
       "\n",
       "    .dataframe tbody tr th {\n",
       "        vertical-align: top;\n",
       "    }\n",
       "\n",
       "    .dataframe thead th {\n",
       "        text-align: right;\n",
       "    }\n",
       "</style>\n",
       "<table border=\"1\" class=\"dataframe\">\n",
       "  <thead>\n",
       "    <tr style=\"text-align: right;\">\n",
       "      <th></th>\n",
       "      <th>Price</th>\n",
       "    </tr>\n",
       "    <tr>\n",
       "      <th>Month</th>\n",
       "      <th></th>\n",
       "    </tr>\n",
       "  </thead>\n",
       "  <tbody>\n",
       "    <tr>\n",
       "      <th>1950</th>\n",
       "      <td>34.729167</td>\n",
       "    </tr>\n",
       "    <tr>\n",
       "      <th>1951</th>\n",
       "      <td>34.717500</td>\n",
       "    </tr>\n",
       "    <tr>\n",
       "      <th>1952</th>\n",
       "      <td>34.628333</td>\n",
       "    </tr>\n",
       "    <tr>\n",
       "      <th>1953</th>\n",
       "      <td>34.879167</td>\n",
       "    </tr>\n",
       "    <tr>\n",
       "      <th>1954</th>\n",
       "      <td>35.020000</td>\n",
       "    </tr>\n",
       "    <tr>\n",
       "      <th>...</th>\n",
       "      <td>...</td>\n",
       "    </tr>\n",
       "    <tr>\n",
       "      <th>2016</th>\n",
       "      <td>1248.161833</td>\n",
       "    </tr>\n",
       "    <tr>\n",
       "      <th>2017</th>\n",
       "      <td>1257.848583</td>\n",
       "    </tr>\n",
       "    <tr>\n",
       "      <th>2018</th>\n",
       "      <td>1269.852583</td>\n",
       "    </tr>\n",
       "    <tr>\n",
       "      <th>2019</th>\n",
       "      <td>1392.585750</td>\n",
       "    </tr>\n",
       "    <tr>\n",
       "      <th>2020</th>\n",
       "      <td>1674.830857</td>\n",
       "    </tr>\n",
       "  </tbody>\n",
       "</table>\n",
       "<p>71 rows × 1 columns</p>\n",
       "</div>"
      ],
      "text/plain": [
       "             Price\n",
       "Month             \n",
       "1950     34.729167\n",
       "1951     34.717500\n",
       "1952     34.628333\n",
       "1953     34.879167\n",
       "1954     35.020000\n",
       "...            ...\n",
       "2016   1248.161833\n",
       "2017   1257.848583\n",
       "2018   1269.852583\n",
       "2019   1392.585750\n",
       "2020   1674.830857\n",
       "\n",
       "[71 rows x 1 columns]"
      ]
     },
     "execution_count": 21,
     "metadata": {},
     "output_type": "execute_result"
    }
   ],
   "source": [
    "df2"
   ]
  },
  {
   "cell_type": "code",
   "execution_count": 22,
   "id": "b11ed0d2",
   "metadata": {},
   "outputs": [
    {
     "data": {
      "text/html": [
       "<div>\n",
       "<style scoped>\n",
       "    .dataframe tbody tr th:only-of-type {\n",
       "        vertical-align: middle;\n",
       "    }\n",
       "\n",
       "    .dataframe tbody tr th {\n",
       "        vertical-align: top;\n",
       "    }\n",
       "\n",
       "    .dataframe thead th {\n",
       "        text-align: right;\n",
       "    }\n",
       "</style>\n",
       "<table border=\"1\" class=\"dataframe\">\n",
       "  <thead>\n",
       "    <tr style=\"text-align: right;\">\n",
       "      <th></th>\n",
       "      <th>Price</th>\n",
       "    </tr>\n",
       "    <tr>\n",
       "      <th>Month</th>\n",
       "      <th></th>\n",
       "    </tr>\n",
       "  </thead>\n",
       "  <tbody>\n",
       "    <tr>\n",
       "      <th>1950</th>\n",
       "      <td>0.002887</td>\n",
       "    </tr>\n",
       "    <tr>\n",
       "      <th>1951</th>\n",
       "      <td>0.020057</td>\n",
       "    </tr>\n",
       "    <tr>\n",
       "      <th>1952</th>\n",
       "      <td>0.117538</td>\n",
       "    </tr>\n",
       "    <tr>\n",
       "      <th>1953</th>\n",
       "      <td>0.056481</td>\n",
       "    </tr>\n",
       "    <tr>\n",
       "      <th>1954</th>\n",
       "      <td>0.082792</td>\n",
       "    </tr>\n",
       "  </tbody>\n",
       "</table>\n",
       "</div>"
      ],
      "text/plain": [
       "          Price\n",
       "Month          \n",
       "1950   0.002887\n",
       "1951   0.020057\n",
       "1952   0.117538\n",
       "1953   0.056481\n",
       "1954   0.082792"
      ]
     },
     "execution_count": 22,
     "metadata": {},
     "output_type": "execute_result"
    }
   ],
   "source": [
    "df3 = df1.groupby(df1.index.year).std()\n",
    "df3.head()"
   ]
  },
  {
   "cell_type": "code",
   "execution_count": 23,
   "id": "ff96fd25",
   "metadata": {},
   "outputs": [
    {
     "data": {
      "text/html": [
       "<div>\n",
       "<style scoped>\n",
       "    .dataframe tbody tr th:only-of-type {\n",
       "        vertical-align: middle;\n",
       "    }\n",
       "\n",
       "    .dataframe tbody tr th {\n",
       "        vertical-align: top;\n",
       "    }\n",
       "\n",
       "    .dataframe thead th {\n",
       "        text-align: right;\n",
       "    }\n",
       "</style>\n",
       "<table border=\"1\" class=\"dataframe\">\n",
       "  <thead>\n",
       "    <tr style=\"text-align: right;\">\n",
       "      <th></th>\n",
       "      <th>mean_price</th>\n",
       "    </tr>\n",
       "    <tr>\n",
       "      <th>Month</th>\n",
       "      <th></th>\n",
       "    </tr>\n",
       "  </thead>\n",
       "  <tbody>\n",
       "    <tr>\n",
       "      <th>1950</th>\n",
       "      <td>34.729167</td>\n",
       "    </tr>\n",
       "    <tr>\n",
       "      <th>1951</th>\n",
       "      <td>34.717500</td>\n",
       "    </tr>\n",
       "    <tr>\n",
       "      <th>1952</th>\n",
       "      <td>34.628333</td>\n",
       "    </tr>\n",
       "    <tr>\n",
       "      <th>1953</th>\n",
       "      <td>34.879167</td>\n",
       "    </tr>\n",
       "    <tr>\n",
       "      <th>1954</th>\n",
       "      <td>35.020000</td>\n",
       "    </tr>\n",
       "  </tbody>\n",
       "</table>\n",
       "</div>"
      ],
      "text/plain": [
       "       mean_price\n",
       "Month            \n",
       "1950    34.729167\n",
       "1951    34.717500\n",
       "1952    34.628333\n",
       "1953    34.879167\n",
       "1954    35.020000"
      ]
     },
     "execution_count": 23,
     "metadata": {},
     "output_type": "execute_result"
    }
   ],
   "source": [
    "df2 = df2.rename(columns={'Price':'mean_price'})\n",
    "df2.head()"
   ]
  },
  {
   "cell_type": "code",
   "execution_count": 24,
   "id": "2aabb622",
   "metadata": {},
   "outputs": [
    {
     "data": {
      "text/html": [
       "<div>\n",
       "<style scoped>\n",
       "    .dataframe tbody tr th:only-of-type {\n",
       "        vertical-align: middle;\n",
       "    }\n",
       "\n",
       "    .dataframe tbody tr th {\n",
       "        vertical-align: top;\n",
       "    }\n",
       "\n",
       "    .dataframe thead th {\n",
       "        text-align: right;\n",
       "    }\n",
       "</style>\n",
       "<table border=\"1\" class=\"dataframe\">\n",
       "  <thead>\n",
       "    <tr style=\"text-align: right;\">\n",
       "      <th></th>\n",
       "      <th>std_price</th>\n",
       "    </tr>\n",
       "    <tr>\n",
       "      <th>Month</th>\n",
       "      <th></th>\n",
       "    </tr>\n",
       "  </thead>\n",
       "  <tbody>\n",
       "    <tr>\n",
       "      <th>1950</th>\n",
       "      <td>0.002887</td>\n",
       "    </tr>\n",
       "    <tr>\n",
       "      <th>1951</th>\n",
       "      <td>0.020057</td>\n",
       "    </tr>\n",
       "    <tr>\n",
       "      <th>1952</th>\n",
       "      <td>0.117538</td>\n",
       "    </tr>\n",
       "    <tr>\n",
       "      <th>1953</th>\n",
       "      <td>0.056481</td>\n",
       "    </tr>\n",
       "    <tr>\n",
       "      <th>1954</th>\n",
       "      <td>0.082792</td>\n",
       "    </tr>\n",
       "  </tbody>\n",
       "</table>\n",
       "</div>"
      ],
      "text/plain": [
       "       std_price\n",
       "Month           \n",
       "1950    0.002887\n",
       "1951    0.020057\n",
       "1952    0.117538\n",
       "1953    0.056481\n",
       "1954    0.082792"
      ]
     },
     "execution_count": 24,
     "metadata": {},
     "output_type": "execute_result"
    }
   ],
   "source": [
    "df3 = df3.rename(columns={'Price':'std_price'})\n",
    "df3.head()"
   ]
  },
  {
   "cell_type": "code",
   "execution_count": 25,
   "id": "08c90670",
   "metadata": {},
   "outputs": [
    {
     "data": {
      "text/html": [
       "<div>\n",
       "<style scoped>\n",
       "    .dataframe tbody tr th:only-of-type {\n",
       "        vertical-align: middle;\n",
       "    }\n",
       "\n",
       "    .dataframe tbody tr th {\n",
       "        vertical-align: top;\n",
       "    }\n",
       "\n",
       "    .dataframe thead th {\n",
       "        text-align: right;\n",
       "    }\n",
       "</style>\n",
       "<table border=\"1\" class=\"dataframe\">\n",
       "  <thead>\n",
       "    <tr style=\"text-align: right;\">\n",
       "      <th></th>\n",
       "      <th>mean_price</th>\n",
       "      <th>std_price</th>\n",
       "    </tr>\n",
       "    <tr>\n",
       "      <th>Month</th>\n",
       "      <th></th>\n",
       "      <th></th>\n",
       "    </tr>\n",
       "  </thead>\n",
       "  <tbody>\n",
       "    <tr>\n",
       "      <th>1950</th>\n",
       "      <td>34.729167</td>\n",
       "      <td>0.002887</td>\n",
       "    </tr>\n",
       "    <tr>\n",
       "      <th>1951</th>\n",
       "      <td>34.717500</td>\n",
       "      <td>0.020057</td>\n",
       "    </tr>\n",
       "    <tr>\n",
       "      <th>1952</th>\n",
       "      <td>34.628333</td>\n",
       "      <td>0.117538</td>\n",
       "    </tr>\n",
       "    <tr>\n",
       "      <th>1953</th>\n",
       "      <td>34.879167</td>\n",
       "      <td>0.056481</td>\n",
       "    </tr>\n",
       "    <tr>\n",
       "      <th>1954</th>\n",
       "      <td>35.020000</td>\n",
       "      <td>0.082792</td>\n",
       "    </tr>\n",
       "  </tbody>\n",
       "</table>\n",
       "</div>"
      ],
      "text/plain": [
       "       mean_price  std_price\n",
       "Month                       \n",
       "1950    34.729167   0.002887\n",
       "1951    34.717500   0.020057\n",
       "1952    34.628333   0.117538\n",
       "1953    34.879167   0.056481\n",
       "1954    35.020000   0.082792"
      ]
     },
     "execution_count": 25,
     "metadata": {},
     "output_type": "execute_result"
    }
   ],
   "source": [
    "df4 = pd.merge(left=df2, right=df3, how='inner', left_index=True, right_index=True)\n",
    "df4.head()"
   ]
  },
  {
   "cell_type": "code",
   "execution_count": 26,
   "id": "d18d6943",
   "metadata": {},
   "outputs": [],
   "source": [
    "df4['cov_pct'] = ((df4['std_price']/df4['mean_price'])*100).round(2)"
   ]
  },
  {
   "cell_type": "code",
   "execution_count": 27,
   "id": "91480708",
   "metadata": {},
   "outputs": [
    {
     "data": {
      "text/html": [
       "<div>\n",
       "<style scoped>\n",
       "    .dataframe tbody tr th:only-of-type {\n",
       "        vertical-align: middle;\n",
       "    }\n",
       "\n",
       "    .dataframe tbody tr th {\n",
       "        vertical-align: top;\n",
       "    }\n",
       "\n",
       "    .dataframe thead th {\n",
       "        text-align: right;\n",
       "    }\n",
       "</style>\n",
       "<table border=\"1\" class=\"dataframe\">\n",
       "  <thead>\n",
       "    <tr style=\"text-align: right;\">\n",
       "      <th></th>\n",
       "      <th>mean_price</th>\n",
       "      <th>std_price</th>\n",
       "      <th>cov_pct</th>\n",
       "    </tr>\n",
       "    <tr>\n",
       "      <th>Month</th>\n",
       "      <th></th>\n",
       "      <th></th>\n",
       "      <th></th>\n",
       "    </tr>\n",
       "  </thead>\n",
       "  <tbody>\n",
       "    <tr>\n",
       "      <th>1950</th>\n",
       "      <td>34.729167</td>\n",
       "      <td>0.002887</td>\n",
       "      <td>0.01</td>\n",
       "    </tr>\n",
       "    <tr>\n",
       "      <th>1951</th>\n",
       "      <td>34.717500</td>\n",
       "      <td>0.020057</td>\n",
       "      <td>0.06</td>\n",
       "    </tr>\n",
       "    <tr>\n",
       "      <th>1952</th>\n",
       "      <td>34.628333</td>\n",
       "      <td>0.117538</td>\n",
       "      <td>0.34</td>\n",
       "    </tr>\n",
       "    <tr>\n",
       "      <th>1953</th>\n",
       "      <td>34.879167</td>\n",
       "      <td>0.056481</td>\n",
       "      <td>0.16</td>\n",
       "    </tr>\n",
       "    <tr>\n",
       "      <th>1954</th>\n",
       "      <td>35.020000</td>\n",
       "      <td>0.082792</td>\n",
       "      <td>0.24</td>\n",
       "    </tr>\n",
       "    <tr>\n",
       "      <th>...</th>\n",
       "      <td>...</td>\n",
       "      <td>...</td>\n",
       "      <td>...</td>\n",
       "    </tr>\n",
       "    <tr>\n",
       "      <th>2016</th>\n",
       "      <td>1248.161833</td>\n",
       "      <td>73.454098</td>\n",
       "      <td>5.88</td>\n",
       "    </tr>\n",
       "    <tr>\n",
       "      <th>2017</th>\n",
       "      <td>1257.848583</td>\n",
       "      <td>32.529524</td>\n",
       "      <td>2.59</td>\n",
       "    </tr>\n",
       "    <tr>\n",
       "      <th>2018</th>\n",
       "      <td>1269.852583</td>\n",
       "      <td>54.900304</td>\n",
       "      <td>4.32</td>\n",
       "    </tr>\n",
       "    <tr>\n",
       "      <th>2019</th>\n",
       "      <td>1392.585750</td>\n",
       "      <td>94.198272</td>\n",
       "      <td>6.76</td>\n",
       "    </tr>\n",
       "    <tr>\n",
       "      <th>2020</th>\n",
       "      <td>1674.830857</td>\n",
       "      <td>98.431766</td>\n",
       "      <td>5.88</td>\n",
       "    </tr>\n",
       "  </tbody>\n",
       "</table>\n",
       "<p>71 rows × 3 columns</p>\n",
       "</div>"
      ],
      "text/plain": [
       "        mean_price  std_price  cov_pct\n",
       "Month                                 \n",
       "1950     34.729167   0.002887     0.01\n",
       "1951     34.717500   0.020057     0.06\n",
       "1952     34.628333   0.117538     0.34\n",
       "1953     34.879167   0.056481     0.16\n",
       "1954     35.020000   0.082792     0.24\n",
       "...            ...        ...      ...\n",
       "2016   1248.161833  73.454098     5.88\n",
       "2017   1257.848583  32.529524     2.59\n",
       "2018   1269.852583  54.900304     4.32\n",
       "2019   1392.585750  94.198272     6.76\n",
       "2020   1674.830857  98.431766     5.88\n",
       "\n",
       "[71 rows x 3 columns]"
      ]
     },
     "execution_count": 27,
     "metadata": {},
     "output_type": "execute_result"
    }
   ],
   "source": [
    "df4"
   ]
  },
  {
   "cell_type": "code",
   "execution_count": 28,
   "id": "ea467954",
   "metadata": {},
   "outputs": [
    {
     "data": {
      "image/png": "[encoded data removed]",
      "text/plain": [
       "<Figure size 1080x720 with 1 Axes>"
      ]
     },
     "metadata": {
      "needs_background": "light"
     },
     "output_type": "display_data"
    }
   ],
   "source": [
    "fig, ax = plt.subplots(figsize=(15,10))\n",
    "df4['cov_pct'].plot();"
   ]
  },
  {
   "cell_type": "code",
   "execution_count": 29,
   "id": "a68ad151",
   "metadata": {},
   "outputs": [],
   "source": [
    "train    =   df1[df1.index.year <= 2015] \n",
    "test     =   df1[df1.index.year > 2015]"
   ]
  },
  {
   "cell_type": "code",
   "execution_count": 30,
   "id": "2fa9469a",
   "metadata": {},
   "outputs": [
    {
     "data": {
      "text/plain": [
       "((792, 1), (55, 1))"
      ]
     },
     "execution_count": 30,
     "metadata": {},
     "output_type": "execute_result"
    }
   ],
   "source": [
    "train.shape, test.shape"
   ]
  },
  {
   "cell_type": "code",
   "execution_count": 31,
   "id": "a069d009",
   "metadata": {},
   "outputs": [
    {
     "data": {
      "image/png": "[encoded data removed]",
      "text/plain": [
       "<Figure size 936x360 with 1 Axes>"
      ]
     },
     "metadata": {
      "needs_background": "light"
     },
     "output_type": "display_data"
    }
   ],
   "source": [
    "train['Price'].plot(figsize=(13,5), fontsize=14)\n",
    "test['Price'].plot(figsize=(13,5), fontsize=14)\n",
    "plt.grid()\n",
    "plt.legend(['Training Data','Test Data'])\n",
    "plt.show()"
   ]
  },
  {
   "cell_type": "code",
   "execution_count": 32,
   "id": "ae456c5c",
   "metadata": {},
   "outputs": [],
   "source": [
    "train_time = [i+1 for i in range(len(train))]\n",
    "test_time = [i+len(train)+1 for i in range(len(test))]"
   ]
  },
  {
   "cell_type": "code",
   "execution_count": 33,
   "id": "52ac9ad1",
   "metadata": {},
   "outputs": [],
   "source": [
    "LR_train = train.copy()\n",
    "LR_test = test.copy()\n",
    "LR_train['time'] = train_time\n",
    "LR_test['time'] = test_time"
   ]
  },
  {
   "cell_type": "code",
   "execution_count": 34,
   "id": "828e6882",
   "metadata": {},
   "outputs": [
    {
     "data": {
      "text/plain": [
       "LinearRegression()"
      ]
     },
     "execution_count": 34,
     "metadata": {},
     "output_type": "execute_result"
    }
   ],
   "source": [
    "lr = LinearRegression()\n",
    "lr.fit(LR_train[['time']], LR_train['Price'].values)"
   ]
  },
  {
   "cell_type": "code",
   "execution_count": 35,
   "id": "693a6a35",
   "metadata": {},
   "outputs": [],
   "source": [
    "test_pred = lr.predict(LR_test[['time']])\n",
    "LR_test['forcast'] = test_pred"
   ]
  },
  {
   "cell_type": "code",
   "execution_count": 36,
   "id": "8ca5c364",
   "metadata": {},
   "outputs": [
    {
     "data": {
      "text/html": [
       "<div>\n",
       "<style scoped>\n",
       "    .dataframe tbody tr th:only-of-type {\n",
       "        vertical-align: middle;\n",
       "    }\n",
       "\n",
       "    .dataframe tbody tr th {\n",
       "        vertical-align: top;\n",
       "    }\n",
       "\n",
       "    .dataframe thead th {\n",
       "        text-align: right;\n",
       "    }\n",
       "</style>\n",
       "<table border=\"1\" class=\"dataframe\">\n",
       "  <thead>\n",
       "    <tr style=\"text-align: right;\">\n",
       "      <th></th>\n",
       "      <th>Price</th>\n",
       "      <th>time</th>\n",
       "      <th>forcast</th>\n",
       "    </tr>\n",
       "    <tr>\n",
       "      <th>Month</th>\n",
       "      <th></th>\n",
       "      <th></th>\n",
       "      <th></th>\n",
       "    </tr>\n",
       "  </thead>\n",
       "  <tbody>\n",
       "    <tr>\n",
       "      <th>2016-01-31</th>\n",
       "      <td>1095.655</td>\n",
       "      <td>793</td>\n",
       "      <td>895.511067</td>\n",
       "    </tr>\n",
       "    <tr>\n",
       "      <th>2016-02-29</th>\n",
       "      <td>1194.893</td>\n",
       "      <td>794</td>\n",
       "      <td>896.880902</td>\n",
       "    </tr>\n",
       "    <tr>\n",
       "      <th>2016-03-31</th>\n",
       "      <td>1246.312</td>\n",
       "      <td>795</td>\n",
       "      <td>898.250736</td>\n",
       "    </tr>\n",
       "    <tr>\n",
       "      <th>2016-04-30</th>\n",
       "      <td>1241.452</td>\n",
       "      <td>796</td>\n",
       "      <td>899.620570</td>\n",
       "    </tr>\n",
       "    <tr>\n",
       "      <th>2016-05-31</th>\n",
       "      <td>1259.755</td>\n",
       "      <td>797</td>\n",
       "      <td>900.990404</td>\n",
       "    </tr>\n",
       "    <tr>\n",
       "      <th>2016-06-30</th>\n",
       "      <td>1273.580</td>\n",
       "      <td>798</td>\n",
       "      <td>902.360238</td>\n",
       "    </tr>\n",
       "    <tr>\n",
       "      <th>2016-07-31</th>\n",
       "      <td>1337.429</td>\n",
       "      <td>799</td>\n",
       "      <td>903.730072</td>\n",
       "    </tr>\n",
       "    <tr>\n",
       "      <th>2016-08-31</th>\n",
       "      <td>1340.861</td>\n",
       "      <td>800</td>\n",
       "      <td>905.099906</td>\n",
       "    </tr>\n",
       "    <tr>\n",
       "      <th>2016-09-30</th>\n",
       "      <td>1326.618</td>\n",
       "      <td>801</td>\n",
       "      <td>906.469740</td>\n",
       "    </tr>\n",
       "    <tr>\n",
       "      <th>2016-10-31</th>\n",
       "      <td>1268.929</td>\n",
       "      <td>802</td>\n",
       "      <td>907.839575</td>\n",
       "    </tr>\n",
       "    <tr>\n",
       "      <th>2016-11-30</th>\n",
       "      <td>1240.293</td>\n",
       "      <td>803</td>\n",
       "      <td>909.209409</td>\n",
       "    </tr>\n",
       "    <tr>\n",
       "      <th>2016-12-31</th>\n",
       "      <td>1152.165</td>\n",
       "      <td>804</td>\n",
       "      <td>910.579243</td>\n",
       "    </tr>\n",
       "    <tr>\n",
       "      <th>2017-01-31</th>\n",
       "      <td>1192.648</td>\n",
       "      <td>805</td>\n",
       "      <td>911.949077</td>\n",
       "    </tr>\n",
       "    <tr>\n",
       "      <th>2017-02-28</th>\n",
       "      <td>1233.390</td>\n",
       "      <td>806</td>\n",
       "      <td>913.318911</td>\n",
       "    </tr>\n",
       "    <tr>\n",
       "      <th>2017-03-31</th>\n",
       "      <td>1231.063</td>\n",
       "      <td>807</td>\n",
       "      <td>914.688745</td>\n",
       "    </tr>\n",
       "    <tr>\n",
       "      <th>2017-04-30</th>\n",
       "      <td>1267.150</td>\n",
       "      <td>808</td>\n",
       "      <td>916.058579</td>\n",
       "    </tr>\n",
       "    <tr>\n",
       "      <th>2017-05-31</th>\n",
       "      <td>1245.250</td>\n",
       "      <td>809</td>\n",
       "      <td>917.428413</td>\n",
       "    </tr>\n",
       "    <tr>\n",
       "      <th>2017-06-30</th>\n",
       "      <td>1261.277</td>\n",
       "      <td>810</td>\n",
       "      <td>918.798247</td>\n",
       "    </tr>\n",
       "    <tr>\n",
       "      <th>2017-07-31</th>\n",
       "      <td>1235.100</td>\n",
       "      <td>811</td>\n",
       "      <td>920.168082</td>\n",
       "    </tr>\n",
       "    <tr>\n",
       "      <th>2017-08-31</th>\n",
       "      <td>1281.720</td>\n",
       "      <td>812</td>\n",
       "      <td>921.537916</td>\n",
       "    </tr>\n",
       "    <tr>\n",
       "      <th>2017-09-30</th>\n",
       "      <td>1317.045</td>\n",
       "      <td>813</td>\n",
       "      <td>922.907750</td>\n",
       "    </tr>\n",
       "    <tr>\n",
       "      <th>2017-10-31</th>\n",
       "      <td>1280.677</td>\n",
       "      <td>814</td>\n",
       "      <td>924.277584</td>\n",
       "    </tr>\n",
       "    <tr>\n",
       "      <th>2017-11-30</th>\n",
       "      <td>1283.189</td>\n",
       "      <td>815</td>\n",
       "      <td>925.647418</td>\n",
       "    </tr>\n",
       "    <tr>\n",
       "      <th>2017-12-31</th>\n",
       "      <td>1265.674</td>\n",
       "      <td>816</td>\n",
       "      <td>927.017252</td>\n",
       "    </tr>\n",
       "    <tr>\n",
       "      <th>2018-01-31</th>\n",
       "      <td>1332.809</td>\n",
       "      <td>817</td>\n",
       "      <td>928.387086</td>\n",
       "    </tr>\n",
       "    <tr>\n",
       "      <th>2018-02-28</th>\n",
       "      <td>1333.775</td>\n",
       "      <td>818</td>\n",
       "      <td>929.756920</td>\n",
       "    </tr>\n",
       "    <tr>\n",
       "      <th>2018-03-31</th>\n",
       "      <td>1325.562</td>\n",
       "      <td>819</td>\n",
       "      <td>931.126754</td>\n",
       "    </tr>\n",
       "    <tr>\n",
       "      <th>2018-04-30</th>\n",
       "      <td>1335.332</td>\n",
       "      <td>820</td>\n",
       "      <td>932.496589</td>\n",
       "    </tr>\n",
       "    <tr>\n",
       "      <th>2018-05-31</th>\n",
       "      <td>1303.618</td>\n",
       "      <td>821</td>\n",
       "      <td>933.866423</td>\n",
       "    </tr>\n",
       "    <tr>\n",
       "      <th>2018-06-30</th>\n",
       "      <td>1282.126</td>\n",
       "      <td>822</td>\n",
       "      <td>935.236257</td>\n",
       "    </tr>\n",
       "    <tr>\n",
       "      <th>2018-07-31</th>\n",
       "      <td>1238.064</td>\n",
       "      <td>823</td>\n",
       "      <td>936.606091</td>\n",
       "    </tr>\n",
       "    <tr>\n",
       "      <th>2018-08-31</th>\n",
       "      <td>1201.859</td>\n",
       "      <td>824</td>\n",
       "      <td>937.975925</td>\n",
       "    </tr>\n",
       "    <tr>\n",
       "      <th>2018-09-30</th>\n",
       "      <td>1199.198</td>\n",
       "      <td>825</td>\n",
       "      <td>939.345759</td>\n",
       "    </tr>\n",
       "    <tr>\n",
       "      <th>2018-10-31</th>\n",
       "      <td>1214.726</td>\n",
       "      <td>826</td>\n",
       "      <td>940.715593</td>\n",
       "    </tr>\n",
       "    <tr>\n",
       "      <th>2018-11-30</th>\n",
       "      <td>1221.275</td>\n",
       "      <td>827</td>\n",
       "      <td>942.085427</td>\n",
       "    </tr>\n",
       "    <tr>\n",
       "      <th>2018-12-31</th>\n",
       "      <td>1249.887</td>\n",
       "      <td>828</td>\n",
       "      <td>943.455262</td>\n",
       "    </tr>\n",
       "    <tr>\n",
       "      <th>2019-01-31</th>\n",
       "      <td>1291.630</td>\n",
       "      <td>829</td>\n",
       "      <td>944.825096</td>\n",
       "    </tr>\n",
       "    <tr>\n",
       "      <th>2019-02-28</th>\n",
       "      <td>1319.755</td>\n",
       "      <td>830</td>\n",
       "      <td>946.194930</td>\n",
       "    </tr>\n",
       "    <tr>\n",
       "      <th>2019-03-31</th>\n",
       "      <td>1302.286</td>\n",
       "      <td>831</td>\n",
       "      <td>947.564764</td>\n",
       "    </tr>\n",
       "    <tr>\n",
       "      <th>2019-04-30</th>\n",
       "      <td>1287.650</td>\n",
       "      <td>832</td>\n",
       "      <td>948.934598</td>\n",
       "    </tr>\n",
       "    <tr>\n",
       "      <th>2019-05-31</th>\n",
       "      <td>1282.460</td>\n",
       "      <td>833</td>\n",
       "      <td>950.304432</td>\n",
       "    </tr>\n",
       "    <tr>\n",
       "      <th>2019-06-30</th>\n",
       "      <td>1358.488</td>\n",
       "      <td>834</td>\n",
       "      <td>951.674266</td>\n",
       "    </tr>\n",
       "    <tr>\n",
       "      <th>2019-07-31</th>\n",
       "      <td>1414.611</td>\n",
       "      <td>835</td>\n",
       "      <td>953.044100</td>\n",
       "    </tr>\n",
       "    <tr>\n",
       "      <th>2019-08-31</th>\n",
       "      <td>1497.102</td>\n",
       "      <td>836</td>\n",
       "      <td>954.413934</td>\n",
       "    </tr>\n",
       "    <tr>\n",
       "      <th>2019-09-30</th>\n",
       "      <td>1510.336</td>\n",
       "      <td>837</td>\n",
       "      <td>955.783769</td>\n",
       "    </tr>\n",
       "    <tr>\n",
       "      <th>2019-10-31</th>\n",
       "      <td>1494.765</td>\n",
       "      <td>838</td>\n",
       "      <td>957.153603</td>\n",
       "    </tr>\n",
       "    <tr>\n",
       "      <th>2019-11-30</th>\n",
       "      <td>1471.921</td>\n",
       "      <td>839</td>\n",
       "      <td>958.523437</td>\n",
       "    </tr>\n",
       "    <tr>\n",
       "      <th>2019-12-31</th>\n",
       "      <td>1480.025</td>\n",
       "      <td>840</td>\n",
       "      <td>959.893271</td>\n",
       "    </tr>\n",
       "    <tr>\n",
       "      <th>2020-01-31</th>\n",
       "      <td>1560.668</td>\n",
       "      <td>841</td>\n",
       "      <td>961.263105</td>\n",
       "    </tr>\n",
       "    <tr>\n",
       "      <th>2020-02-29</th>\n",
       "      <td>1598.818</td>\n",
       "      <td>842</td>\n",
       "      <td>962.632939</td>\n",
       "    </tr>\n",
       "    <tr>\n",
       "      <th>2020-03-31</th>\n",
       "      <td>1593.764</td>\n",
       "      <td>843</td>\n",
       "      <td>964.002773</td>\n",
       "    </tr>\n",
       "    <tr>\n",
       "      <th>2020-04-30</th>\n",
       "      <td>1680.030</td>\n",
       "      <td>844</td>\n",
       "      <td>965.372607</td>\n",
       "    </tr>\n",
       "    <tr>\n",
       "      <th>2020-05-31</th>\n",
       "      <td>1715.697</td>\n",
       "      <td>845</td>\n",
       "      <td>966.742441</td>\n",
       "    </tr>\n",
       "    <tr>\n",
       "      <th>2020-06-30</th>\n",
       "      <td>1734.032</td>\n",
       "      <td>846</td>\n",
       "      <td>968.112276</td>\n",
       "    </tr>\n",
       "    <tr>\n",
       "      <th>2020-07-31</th>\n",
       "      <td>1840.807</td>\n",
       "      <td>847</td>\n",
       "      <td>969.482110</td>\n",
       "    </tr>\n",
       "  </tbody>\n",
       "</table>\n",
       "</div>"
      ],
      "text/plain": [
       "               Price  time     forcast\n",
       "Month                                 \n",
       "2016-01-31  1095.655   793  895.511067\n",
       "2016-02-29  1194.893   794  896.880902\n",
       "2016-03-31  1246.312   795  898.250736\n",
       "2016-04-30  1241.452   796  899.620570\n",
       "2016-05-31  1259.755   797  900.990404\n",
       "2016-06-30  1273.580   798  902.360238\n",
       "2016-07-31  1337.429   799  903.730072\n",
       "2016-08-31  1340.861   800  905.099906\n",
       "2016-09-30  1326.618   801  906.469740\n",
       "2016-10-31  1268.929   802  907.839575\n",
       "2016-11-30  1240.293   803  909.209409\n",
       "2016-12-31  1152.165   804  910.579243\n",
       "2017-01-31  1192.648   805  911.949077\n",
       "2017-02-28  1233.390   806  913.318911\n",
       "2017-03-31  1231.063   807  914.688745\n",
       "2017-04-30  1267.150   808  916.058579\n",
       "2017-05-31  1245.250   809  917.428413\n",
       "2017-06-30  1261.277   810  918.798247\n",
       "2017-07-31  1235.100   811  920.168082\n",
       "2017-08-31  1281.720   812  921.537916\n",
       "2017-09-30  1317.045   813  922.907750\n",
       "2017-10-31  1280.677   814  924.277584\n",
       "2017-11-30  1283.189   815  925.647418\n",
       "2017-12-31  1265.674   816  927.017252\n",
       "2018-01-31  1332.809   817  928.387086\n",
       "2018-02-28  1333.775   818  929.756920\n",
       "2018-03-31  1325.562   819  931.126754\n",
       "2018-04-30  1335.332   820  932.496589\n",
       "2018-05-31  1303.618   821  933.866423\n",
       "2018-06-30  1282.126   822  935.236257\n",
       "2018-07-31  1238.064   823  936.606091\n",
       "2018-08-31  1201.859   824  937.975925\n",
       "2018-09-30  1199.198   825  939.345759\n",
       "2018-10-31  1214.726   826  940.715593\n",
       "2018-11-30  1221.275   827  942.085427\n",
       "2018-12-31  1249.887   828  943.455262\n",
       "2019-01-31  1291.630   829  944.825096\n",
       "2019-02-28  1319.755   830  946.194930\n",
       "2019-03-31  1302.286   831  947.564764\n",
       "2019-04-30  1287.650   832  948.934598\n",
       "2019-05-31  1282.460   833  950.304432\n",
       "2019-06-30  1358.488   834  951.674266\n",
       "2019-07-31  1414.611   835  953.044100\n",
       "2019-08-31  1497.102   836  954.413934\n",
       "2019-09-30  1510.336   837  955.783769\n",
       "2019-10-31  1494.765   838  957.153603\n",
       "2019-11-30  1471.921   839  958.523437\n",
       "2019-12-31  1480.025   840  959.893271\n",
       "2020-01-31  1560.668   841  961.263105\n",
       "2020-02-29  1598.818   842  962.632939\n",
       "2020-03-31  1593.764   843  964.002773\n",
       "2020-04-30  1680.030   844  965.372607\n",
       "2020-05-31  1715.697   845  966.742441\n",
       "2020-06-30  1734.032   846  968.112276\n",
       "2020-07-31  1840.807   847  969.482110"
      ]
     },
     "execution_count": 36,
     "metadata": {},
     "output_type": "execute_result"
    }
   ],
   "source": [
    "LR_test"
   ]
  },
  {
   "cell_type": "code",
   "execution_count": 39,
   "id": "edcac39d",
   "metadata": {},
   "outputs": [
    {
     "data": {
      "image/png": "[encoded data removed]",
      "text/plain": [
       "<Figure size 936x432 with 1 Axes>"
      ]
     },
     "metadata": {
      "needs_background": "light"
     },
     "output_type": "display_data"
    }
   ],
   "source": [
    "plt.figure(figsize=(13,6))\n",
    "plt.plot( train['Price'], label='Train')\n",
    "plt.plot( test['Price'], label='Test')\n",
    "plt.plot(LR_test['forcast'], label='Forcast')\n",
    "plt.legend(loc='best')\n",
    "plt.grid();"
   ]
  },
  {
   "cell_type": "code",
   "execution_count": 40,
   "id": "729087a8",
   "metadata": {},
   "outputs": [],
   "source": [
    "def mape(actual,pred):\n",
    "    return round((np.mean(abs(actual-pred)/actual))*100,2)\n"
   ]
  },
  {
   "cell_type": "code",
   "execution_count": 42,
   "id": "1fe4a221",
   "metadata": {},
   "outputs": [
    {
     "name": "stdout",
     "output_type": "stream",
     "text": [
      "For RegressionOnTime forecast on the Test Data,  MAPE is 29.760 %\n"
     ]
    }
   ],
   "source": [
    "mape_model1_test = mape(test['Price'].values,test_pred)\n",
    "print(\"For RegressionOnTime forecast on the Test Data,  MAPE is %3.3f\" %(mape_model1_test),\"%\")"
   ]
  },
  {
   "cell_type": "code",
   "execution_count": 44,
   "id": "32ed056f",
   "metadata": {},
   "outputs": [
    {
     "data": {
      "text/html": [
       "<div>\n",
       "<style scoped>\n",
       "    .dataframe tbody tr th:only-of-type {\n",
       "        vertical-align: middle;\n",
       "    }\n",
       "\n",
       "    .dataframe tbody tr th {\n",
       "        vertical-align: top;\n",
       "    }\n",
       "\n",
       "    .dataframe thead th {\n",
       "        text-align: right;\n",
       "    }\n",
       "</style>\n",
       "<table border=\"1\" class=\"dataframe\">\n",
       "  <thead>\n",
       "    <tr style=\"text-align: right;\">\n",
       "      <th></th>\n",
       "      <th>Price</th>\n",
       "      <th>Trailing_2</th>\n",
       "      <th>Trailing_3</th>\n",
       "      <th>Trailing_5</th>\n",
       "      <th>Trailing_7</th>\n",
       "    </tr>\n",
       "    <tr>\n",
       "      <th>Month</th>\n",
       "      <th></th>\n",
       "      <th></th>\n",
       "      <th></th>\n",
       "      <th></th>\n",
       "      <th></th>\n",
       "    </tr>\n",
       "  </thead>\n",
       "  <tbody>\n",
       "    <tr>\n",
       "      <th>1950-01-31</th>\n",
       "      <td>34.73</td>\n",
       "      <td>NaN</td>\n",
       "      <td>NaN</td>\n",
       "      <td>NaN</td>\n",
       "      <td>NaN</td>\n",
       "    </tr>\n",
       "    <tr>\n",
       "      <th>1950-02-28</th>\n",
       "      <td>34.73</td>\n",
       "      <td>34.73</td>\n",
       "      <td>NaN</td>\n",
       "      <td>NaN</td>\n",
       "      <td>NaN</td>\n",
       "    </tr>\n",
       "    <tr>\n",
       "      <th>1950-03-31</th>\n",
       "      <td>34.73</td>\n",
       "      <td>34.73</td>\n",
       "      <td>34.73</td>\n",
       "      <td>NaN</td>\n",
       "      <td>NaN</td>\n",
       "    </tr>\n",
       "    <tr>\n",
       "      <th>1950-04-30</th>\n",
       "      <td>34.73</td>\n",
       "      <td>34.73</td>\n",
       "      <td>34.73</td>\n",
       "      <td>NaN</td>\n",
       "      <td>NaN</td>\n",
       "    </tr>\n",
       "    <tr>\n",
       "      <th>1950-05-31</th>\n",
       "      <td>34.73</td>\n",
       "      <td>34.73</td>\n",
       "      <td>34.73</td>\n",
       "      <td>34.73</td>\n",
       "      <td>NaN</td>\n",
       "    </tr>\n",
       "    <tr>\n",
       "      <th>1950-06-30</th>\n",
       "      <td>34.73</td>\n",
       "      <td>34.73</td>\n",
       "      <td>34.73</td>\n",
       "      <td>34.73</td>\n",
       "      <td>NaN</td>\n",
       "    </tr>\n",
       "    <tr>\n",
       "      <th>1950-07-31</th>\n",
       "      <td>34.73</td>\n",
       "      <td>34.73</td>\n",
       "      <td>34.73</td>\n",
       "      <td>34.73</td>\n",
       "      <td>34.73</td>\n",
       "    </tr>\n",
       "    <tr>\n",
       "      <th>1950-08-31</th>\n",
       "      <td>34.73</td>\n",
       "      <td>34.73</td>\n",
       "      <td>34.73</td>\n",
       "      <td>34.73</td>\n",
       "      <td>34.73</td>\n",
       "    </tr>\n",
       "    <tr>\n",
       "      <th>1950-09-30</th>\n",
       "      <td>34.73</td>\n",
       "      <td>34.73</td>\n",
       "      <td>34.73</td>\n",
       "      <td>34.73</td>\n",
       "      <td>34.73</td>\n",
       "    </tr>\n",
       "    <tr>\n",
       "      <th>1950-10-31</th>\n",
       "      <td>34.73</td>\n",
       "      <td>34.73</td>\n",
       "      <td>34.73</td>\n",
       "      <td>34.73</td>\n",
       "      <td>34.73</td>\n",
       "    </tr>\n",
       "  </tbody>\n",
       "</table>\n",
       "</div>"
      ],
      "text/plain": [
       "            Price  Trailing_2  Trailing_3  Trailing_5  Trailing_7\n",
       "Month                                                            \n",
       "1950-01-31  34.73         NaN         NaN         NaN         NaN\n",
       "1950-02-28  34.73       34.73         NaN         NaN         NaN\n",
       "1950-03-31  34.73       34.73       34.73         NaN         NaN\n",
       "1950-04-30  34.73       34.73       34.73         NaN         NaN\n",
       "1950-05-31  34.73       34.73       34.73       34.73         NaN\n",
       "1950-06-30  34.73       34.73       34.73       34.73         NaN\n",
       "1950-07-31  34.73       34.73       34.73       34.73       34.73\n",
       "1950-08-31  34.73       34.73       34.73       34.73       34.73\n",
       "1950-09-30  34.73       34.73       34.73       34.73       34.73\n",
       "1950-10-31  34.73       34.73       34.73       34.73       34.73"
      ]
     },
     "execution_count": 44,
     "metadata": {},
     "output_type": "execute_result"
    }
   ],
   "source": [
    "Mvg_Avg = df1.copy()\n",
    "Mvg_Avg['Trailing_2'] = Mvg_Avg['Price'].rolling(2).mean()\n",
    "Mvg_Avg['Trailing_3'] = Mvg_Avg['Price'].rolling(3).mean()\n",
    "Mvg_Avg['Trailing_5'] = Mvg_Avg['Price'].rolling(5).mean()\n",
    "Mvg_Avg['Trailing_7'] = Mvg_Avg['Price'].rolling(7).mean()\n",
    "Mvg_Avg.head(10)"
   ]
  },
  {
   "cell_type": "code",
   "execution_count": 45,
   "id": "eb088e58",
   "metadata": {},
   "outputs": [
    {
     "data": {
      "image/png": "[encoded data removed]",
      "text/plain": [
       "<Figure size 936x432 with 1 Axes>"
      ]
     },
     "metadata": {
      "needs_background": "light"
     },
     "output_type": "display_data"
    }
   ],
   "source": [
    "plt.figure(figsize=(13,6))\n",
    "plt.plot( Mvg_Avg['Price'], label='Actual')\n",
    "plt.plot( Mvg_Avg['Trailing_2'] , label='Trailing 2')\n",
    "plt.plot( Mvg_Avg['Trailing_3'] , label='Trailing 3')\n",
    "plt.plot( Mvg_Avg['Trailing_5'] , label='Trailing 5')\n",
    "plt.plot( Mvg_Avg['Trailing_7'] , label='Trailing 7')\n",
    "plt.legend(loc='best')\n",
    "plt.grid();"
   ]
  },
  {
   "cell_type": "code",
   "execution_count": null,
   "id": "d2005895",
   "metadata": {},
   "outputs": [],
   "source": [
    "trailing_Mvg_Avg_train=Mvg_Avg[Mvg_Avg.index.year <= 2015] \n",
    "trailing_Mvg_Avg_test=Mvg_Avg[Mvg_Avg.index.year > 2015]"
   ]
  }
 ],
 "metadata": {
  "kernelspec": {
   "display_name": "Python 3",
   "language": "python",
   "name": "python3"
  },
  "language_info": {
   "codemirror_mode": {
    "name": "ipython",
    "version": 3
   },
   "file_extension": ".py",
   "mimetype": "text/x-python",
   "name": "python",
   "nbconvert_exporter": "python",
   "pygments_lexer": "ipython3",
   "version": "3.9.8"
  }
 },
 "nbformat": 4,
 "nbformat_minor": 5
}
