{
 "cells": [
  {
   "cell_type": "code",
   "execution_count": null,
   "id": "4a625e68",
   "metadata": {},
   "outputs": [],
   "source": [
    "import pandas as pd\n",
    "import numpy as np"
   ]
  },
  {
   "cell_type": "code",
   "execution_count": null,
   "id": "f8360690",
   "metadata": {},
   "outputs": [],
   "source": [
    "df = pd.read_csv('Iris.csv')\n",
    "df.head()"
   ]
  },
  {
   "cell_type": "code",
   "execution_count": null,
   "id": "5e73e4cc",
   "metadata": {},
   "outputs": [],
   "source": [
    "# columns: add, select, delete, rename; Head\n",
    "# and Tail functions; Indexing using Labels, Boolean Indexing;"
   ]
  },
  {
   "cell_type": "code",
   "execution_count": null,
   "id": "d3cc179e",
   "metadata": {},
   "outputs": [],
   "source": [
    "df.shape"
   ]
  },
  {
   "cell_type": "code",
   "execution_count": null,
   "id": "f2218829",
   "metadata": {},
   "outputs": [],
   "source": [
    "df.loc[0:50:5, :] # all columns\n",
    "df.loc[0:50:5, 'SepalLengthCm':'PetalWidthCm']\n",
    "df.loc[0:50:5, ['SepalWidthCm','Species']]\n",
    "\n",
    "df.loc[0:50:5, :] # all columns\n",
    "df.loc[:, :]\n",
    "df.loc[[40, 4, 100, 149], :]"
   ]
  },
  {
   "cell_type": "code",
   "execution_count": null,
   "id": "3bf3f127",
   "metadata": {},
   "outputs": [],
   "source": [
    "df.iloc[0:51:5, :] # all columns\n",
    "df.iloc[0:51:5, 1:4]\n",
    "df.iloc[0:51:5, [-1, 2]]\n",
    "\n",
    "df.iloc[0:50:5, :] # all columns\n",
    "df.iloc[:, :]\n",
    "df.iloc[[40, 4, 100, 149], :]\n",
    "df.iloc[[40, 4, 100, 149],  [-1, 2]]"
   ]
  },
  {
   "cell_type": "code",
   "execution_count": null,
   "id": "19be7ff5",
   "metadata": {},
   "outputs": [],
   "source": [
    "# iterrows\n",
    "# iteritems / items\n",
    "# itertuple\n",
    "\n",
    "for i, r in df.iterrows():\n",
    "    print(i)\n",
    "    print(r)\n",
    "    print(r['Species'], r['SepalWidthCm'])\n",
    "    break"
   ]
  },
  {
   "cell_type": "code",
   "execution_count": null,
   "id": "254f1b95",
   "metadata": {},
   "outputs": [],
   "source": [
    "for i, c in df.items(): #iteritems():\n",
    "    print(i)\n",
    "    print(c[140:150])"
   ]
  },
  {
   "cell_type": "code",
   "execution_count": null,
   "id": "b672a03d",
   "metadata": {},
   "outputs": [],
   "source": [
    "for t in df.itertuples():\n",
    "#     print(i)\n",
    "    print(t)"
   ]
  },
  {
   "cell_type": "code",
   "execution_count": null,
   "id": "b917e8e7",
   "metadata": {},
   "outputs": [],
   "source": [
    "# aggregate operation - sum, max, min, count, mean, median\n",
    "df.sum()\n",
    "\n",
    "df[['SepalLengthCm', 'PetalWidthCm']].sum()\n",
    "\n",
    "df[['SepalLengthCm', 'PetalWidthCm']].sum(axis = 1)"
   ]
  },
  {
   "cell_type": "code",
   "execution_count": null,
   "id": "236753ca",
   "metadata": {},
   "outputs": [],
   "source": [
    "df.mean()\n",
    "\n",
    "df[['SepalLengthCm', 'PetalWidthCm']].mean()\n",
    "\n",
    "df[['SepalLengthCm', 'PetalWidthCm']].mean(axis = 1)"
   ]
  },
  {
   "cell_type": "code",
   "execution_count": null,
   "id": "d99f29cd",
   "metadata": {},
   "outputs": [],
   "source": []
  }
 ],
 "metadata": {
  "kernelspec": {
   "display_name": "Python 3",
   "language": "python",
   "name": "python3"
  },
  "language_info": {
   "codemirror_mode": {
    "name": "ipython",
    "version": 3
   },
   "file_extension": ".py",
   "mimetype": "text/x-python",
   "name": "python",
   "nbconvert_exporter": "python",
   "pygments_lexer": "ipython3",
   "version": "3.9.8"
  }
 },
 "nbformat": 4,
 "nbformat_minor": 5
}
