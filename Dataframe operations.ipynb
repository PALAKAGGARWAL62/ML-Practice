{
 "cells": [
  {
   "cell_type": "code",
   "execution_count": null,
   "id": "78ffff6b",
   "metadata": {},
   "outputs": [],
   "source": [
    "import pandas as pd\n",
    "import numpy as np"
   ]
  },
  {
   "cell_type": "code",
   "execution_count": null,
   "id": "e9ebf9f0",
   "metadata": {},
   "outputs": [],
   "source": [
    "df = pd.read_csv('Iris.csv')\n",
    "df.head()"
   ]
  },
  {
   "cell_type": "code",
   "execution_count": null,
   "id": "ca8a7912",
   "metadata": {},
   "outputs": [],
   "source": [
    "# columns: add, select, delete, rename; Head\n",
    "# and Tail functions; Indexing using Labels, Boolean Indexing;"
   ]
  },
  {
   "cell_type": "code",
   "execution_count": null,
   "id": "fdd3d91e",
   "metadata": {},
   "outputs": [],
   "source": [
    "df.shape"
   ]
  },
  {
   "cell_type": "code",
   "execution_count": null,
   "id": "5ce33c7f",
   "metadata": {},
   "outputs": [],
   "source": [
    "df.loc[0:50:5, :] # all columns\n",
    "df.loc[0:50:5, 'SepalLengthCm':'PetalWidthCm']\n",
    "df.loc[0:50:5, ['SepalWidthCm','Species']]\n",
    "\n",
    "df.loc[0:50:5, :] # all columns\n",
    "df.loc[:, :]\n",
    "df.loc[[40, 4, 100, 149], :]"
   ]
  },
  {
   "cell_type": "code",
   "execution_count": null,
   "id": "c2222286",
   "metadata": {},
   "outputs": [],
   "source": [
    "df.iloc[0:51:5, :] # all columns\n",
    "df.iloc[0:51:5, 1:4]\n",
    "df.iloc[0:51:5, [-1, 2]]\n",
    "\n",
    "df.iloc[0:50:5, :] # all columns\n",
    "df.iloc[:, :]\n",
    "df.iloc[[40, 4, 100, 149], :]\n",
    "df.iloc[[40, 4, 100, 149],  [-1, 2]]"
   ]
  },
  {
   "cell_type": "code",
   "execution_count": null,
   "id": "b27583be",
   "metadata": {},
   "outputs": [],
   "source": [
    "# iterrows\n",
    "# iteritems / items\n",
    "# itertuple\n",
    "\n",
    "for i, r in df.iterrows():\n",
    "    print(i)\n",
    "    print(r)\n",
    "    print(r['Species'], r['SepalWidthCm'])\n",
    "    break"
   ]
  },
  {
   "cell_type": "code",
   "execution_count": null,
   "id": "71a1d881",
   "metadata": {},
   "outputs": [],
   "source": [
    "for i, c in df.items(): #iteritems():\n",
    "    print(i)\n",
    "    print(c[140:150])"
   ]
  },
  {
   "cell_type": "code",
   "execution_count": null,
   "id": "1a31189e",
   "metadata": {},
   "outputs": [],
   "source": [
    "for t in df.itertuples():\n",
    "#     print(i)\n",
    "    print(t)"
   ]
  },
  {
   "cell_type": "code",
   "execution_count": 37,
   "id": "2ca0cb39",
   "metadata": {},
   "outputs": [
    {
     "data": {
      "text/plain": [
       "0      5.3\n",
       "1      5.1\n",
       "2      4.9\n",
       "3      4.8\n",
       "4      5.2\n",
       "      ... \n",
       "145    9.0\n",
       "146    8.2\n",
       "147    8.5\n",
       "148    8.5\n",
       "149    7.7\n",
       "Length: 150, dtype: float64"
      ]
     },
     "execution_count": 37,
     "metadata": {},
     "output_type": "execute_result"
    }
   ],
   "source": [
    "# aggregate operation - sum, max, min, count, mean, median\n",
    "df.sum(numeric_only=None)\n",
    "\n",
    "df[['SepalLengthCm', 'PetalWidthCm']].sum()\n",
    "\n",
    "df[['SepalLengthCm', 'PetalWidthCm']].sum(axis = 1)"
   ]
  },
  {
   "cell_type": "code",
   "execution_count": 42,
   "id": "9b6b64fa",
   "metadata": {},
   "outputs": [
    {
     "data": {
      "text/plain": [
       "0      2.65\n",
       "1      2.55\n",
       "2      2.45\n",
       "3      2.40\n",
       "4      2.60\n",
       "       ... \n",
       "145    4.50\n",
       "146    4.10\n",
       "147    4.25\n",
       "148    4.25\n",
       "149    3.85\n",
       "Length: 150, dtype: float64"
      ]
     },
     "execution_count": 42,
     "metadata": {},
     "output_type": "execute_result"
    }
   ],
   "source": [
    "df.mean(numeric_only=True, axis=1)\n",
    "\n",
    "df[['SepalLengthCm', 'PetalWidthCm']].mean()\n",
    "\n",
    "df[['SepalLengthCm', 'PetalWidthCm']].mean(axis = 1)"
   ]
  },
  {
   "cell_type": "code",
   "execution_count": 51,
   "id": "6a9d86d0",
   "metadata": {},
   "outputs": [
    {
     "data": {
      "text/plain": [
       "0      3.5\n",
       "1      3.0\n",
       "2      3.2\n",
       "3      3.1\n",
       "4      3.6\n",
       "      ... \n",
       "145    3.0\n",
       "146    2.5\n",
       "147    3.0\n",
       "148    3.4\n",
       "149    3.0\n",
       "Length: 150, dtype: float64"
      ]
     },
     "execution_count": 51,
     "metadata": {},
     "output_type": "execute_result"
    }
   ],
   "source": [
    "df.median(numeric_only=True, axis=1)\n",
    "df.median(numeric_only=True, axis=0)\n",
    "\n",
    "df[['SepalLengthCm', 'PetalWidthCm']].median()\n",
    "\n",
    "df[['SepalLengthCm', 'PetalWidthCm', 'SepalWidthCm' ]].median(axis = 1)"
   ]
  },
  {
   "cell_type": "code",
   "execution_count": 46,
   "id": "fc6646c7",
   "metadata": {},
   "outputs": [
    {
     "data": {
      "text/plain": [
       "[3, 5, 21, 23, 23, 45, 54, 56, 76, 86]"
      ]
     },
     "execution_count": 46,
     "metadata": {},
     "output_type": "execute_result"
    }
   ],
   "source": [
    "l = [45, 54, 21, 76, 23, 3, 23, 56, 86, 5]\n",
    "l.sort()\n",
    "l"
   ]
  },
  {
   "cell_type": "code",
   "execution_count": 47,
   "id": "ae65177a",
   "metadata": {},
   "outputs": [
    {
     "data": {
      "text/plain": [
       "34.0"
      ]
     },
     "execution_count": 47,
     "metadata": {},
     "output_type": "execute_result"
    }
   ],
   "source": [
    "(23+45)/2"
   ]
  },
  {
   "cell_type": "code",
   "execution_count": 53,
   "id": "4d3abb8d",
   "metadata": {},
   "outputs": [
    {
     "data": {
      "text/plain": [
       "0.00    4.3\n",
       "0.25    5.1\n",
       "0.50    5.8\n",
       "0.75    6.4\n",
       "1.00    7.9\n",
       "Name: SepalLengthCm, dtype: float64"
      ]
     },
     "execution_count": 53,
     "metadata": {},
     "output_type": "execute_result"
    }
   ],
   "source": [
    "df['SepalLengthCm'].quantile([0, 0.25, 0.5, 0.75, 1])"
   ]
  },
  {
   "cell_type": "code",
   "execution_count": 55,
   "id": "f981fafb",
   "metadata": {},
   "outputs": [
    {
     "data": {
      "text/plain": [
       "32"
      ]
     },
     "execution_count": 55,
     "metadata": {},
     "output_type": "execute_result"
    }
   ],
   "source": [
    "df['SepalLengthCm'][df['SepalLengthCm']<5.1].count()"
   ]
  },
  {
   "cell_type": "code",
   "execution_count": 57,
   "id": "772fc064",
   "metadata": {},
   "outputs": [
    {
     "data": {
      "text/plain": [
       "41"
      ]
     },
     "execution_count": 57,
     "metadata": {},
     "output_type": "execute_result"
    }
   ],
   "source": [
    "df['SepalLengthCm'][(df['SepalLengthCm']<5.8) & (df['SepalLengthCm']>=5.1)].count()"
   ]
  },
  {
   "cell_type": "code",
   "execution_count": 58,
   "id": "389c6fbd",
   "metadata": {},
   "outputs": [
    {
     "data": {
      "text/plain": [
       "35"
      ]
     },
     "execution_count": 58,
     "metadata": {},
     "output_type": "execute_result"
    }
   ],
   "source": [
    "df['SepalLengthCm'][(df['SepalLengthCm']<6.4) & (df['SepalLengthCm']>=5.8)].count()"
   ]
  },
  {
   "cell_type": "code",
   "execution_count": 59,
   "id": "275bf4d5",
   "metadata": {},
   "outputs": [
    {
     "data": {
      "text/plain": [
       "41"
      ]
     },
     "execution_count": 59,
     "metadata": {},
     "output_type": "execute_result"
    }
   ],
   "source": [
    "df['SepalLengthCm'][(df['SepalLengthCm']<7.9) & (df['SepalLengthCm']>=6.4)].count()"
   ]
  },
  {
   "cell_type": "code",
   "execution_count": 60,
   "id": "98ebc8ea",
   "metadata": {},
   "outputs": [
    {
     "data": {
      "text/plain": [
       "0.00    4.3\n",
       "0.10    4.8\n",
       "0.15    5.0\n",
       "0.25    5.1\n",
       "0.50    5.8\n",
       "0.75    6.4\n",
       "1.00    7.9\n",
       "Name: SepalLengthCm, dtype: float64"
      ]
     },
     "execution_count": 60,
     "metadata": {},
     "output_type": "execute_result"
    }
   ],
   "source": [
    "df['SepalLengthCm'].quantile([0, 0.1, 0.15, 0.25, 0.5, 0.75, 1])"
   ]
  },
  {
   "cell_type": "code",
   "execution_count": null,
   "id": "22e76c89",
   "metadata": {},
   "outputs": [],
   "source": []
  }
 ],
 "metadata": {
  "kernelspec": {
   "display_name": "Python 3",
   "language": "python",
   "name": "python3"
  },
  "language_info": {
   "codemirror_mode": {
    "name": "ipython",
    "version": 3
   },
   "file_extension": ".py",
   "mimetype": "text/x-python",
   "name": "python",
   "nbconvert_exporter": "python",
   "pygments_lexer": "ipython3",
   "version": "3.9.8"
  }
 },
 "nbformat": 4,
 "nbformat_minor": 5
}
